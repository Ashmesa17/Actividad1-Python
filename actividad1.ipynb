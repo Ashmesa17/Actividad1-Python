{
  "nbformat": 4,
  "nbformat_minor": 0,
  "metadata": {
    "colab": {
      "provenance": [],
      "authorship_tag": "ABX9TyNB6mdZm5L5ep6yOfzmfu4I",
      "include_colab_link": true
    },
    "kernelspec": {
      "name": "python3",
      "display_name": "Python 3"
    },
    "language_info": {
      "name": "python"
    }
  },
  "cells": [
    {
      "cell_type": "markdown",
      "metadata": {
        "id": "view-in-github",
        "colab_type": "text"
      },
      "source": [
        "<a href=\"https://colab.research.google.com/github/Ashmesa17/Actividad1-Python/blob/main/actividad1.ipynb\" target=\"_parent\"><img src=\"https://colab.research.google.com/assets/colab-badge.svg\" alt=\"Open In Colab\"/></a>"
      ]
    },
    {
      "cell_type": "markdown",
      "source": [
        "serie de fibonacci"
      ],
      "metadata": {
        "id": "FZGJ5pi8NJmi"
      }
    },
    {
      "cell_type": "code",
      "execution_count": null,
      "metadata": {
        "id": "mSRigTowGpiE"
      },
      "outputs": [],
      "source": [
        "a = 0\n",
        "b = 1\n",
        "c = 0\n",
        "\n",
        "while a <= 10:\n",
        "\n",
        "  c = a + b\n",
        "  print(a)\n",
        "  a = b\n",
        "  b = c"
      ]
    },
    {
      "cell_type": "markdown",
      "source": [
        "serie de fibonacci con tuplas"
      ],
      "metadata": {
        "id": "GKUSPKIQM_wW"
      }
    },
    {
      "cell_type": "code",
      "source": [
        "a = 0\n",
        "b = 1\n",
        "\n",
        "while a<= 50 :\n",
        "  print (a)\n",
        "  (a , b) = (b ,a + b)\n"
      ],
      "metadata": {
        "id": "eyWORHnzL4Ev"
      },
      "execution_count": null,
      "outputs": []
    },
    {
      "cell_type": "markdown",
      "source": [
        "Actividad 1"
      ],
      "metadata": {
        "id": "qydapkKROxYY"
      }
    },
    {
      "cell_type": "code",
      "source": [
        "v = int(input(\"Ingrese el valor de la Velocidad: \"))\n",
        "t = int(input( \"Ingrese el tiempo recorrido:\"))\n",
        "\n",
        "d = v*t\n",
        "print(\"La distancia recorrida es: \", d)"
      ],
      "metadata": {
        "colab": {
          "base_uri": "https://localhost:8080/"
        },
        "id": "mXZOvU_kO2hI",
        "outputId": "33fec37f-a7f3-474e-9a64-63bde64e6296"
      },
      "execution_count": null,
      "outputs": [
        {
          "output_type": "stream",
          "name": "stdout",
          "text": [
            "Ingrese el valor de la Velocidad: 100\n",
            "Ingrese el tiempo recorrido:23\n",
            "La distancia recorrida es:  2300\n"
          ]
        }
      ]
    },
    {
      "cell_type": "code",
      "source": [
        "n1= float(input(\"Ingrese el primer numero: \"))\n",
        "n2= float(input(\"Ingrese el segundo numero: \"))\n",
        "n3= float(input(\"Ingrese el tercer numero: \"))\n",
        "\n",
        "promedio = (n1+n2+n3)/3\n",
        "\n",
        "print(\"El promedio de los numeros ingresados es: \", promedio)"
      ],
      "metadata": {
        "colab": {
          "base_uri": "https://localhost:8080/"
        },
        "id": "deRnBOqUQM3X",
        "outputId": "7a38f0b5-354a-4659-c682-2f55ae29893d"
      },
      "execution_count": null,
      "outputs": [
        {
          "output_type": "stream",
          "name": "stdout",
          "text": [
            "Ingrese el primer numero: 4.5\n",
            "Ingrese el segundo numero: 4\n",
            "Ingrese el tercer numero: 5\n",
            "El promedio de los numeros ingresados es:  4.5\n"
          ]
        }
      ]
    },
    {
      "cell_type": "code",
      "source": [
        "wins=int(input(\"Ingrese el numero de partidos ganados: \"))\n",
        "draws=int(input(\"Ingrese el numero de partidos empatados: \"))\n",
        "loses=int(input(\"Ingrese el numero de partidos perdidos: \"))\n",
        "\n",
        "print(\"wins: \", wins)\n",
        "print(\"draws: \", draws)\n",
        "print(\"loses: \", loses)\n",
        "\n",
        "print(\"Puntos totales: \", (wins*3)+(draws*1))\n"
      ],
      "metadata": {
        "colab": {
          "base_uri": "https://localhost:8080/"
        },
        "id": "1IXFzhsfRrLK",
        "outputId": "20e5296a-381a-4b80-a4c3-3734b518fae2"
      },
      "execution_count": null,
      "outputs": [
        {
          "output_type": "stream",
          "name": "stdout",
          "text": [
            "Ingrese el numero de partidos ganados: 3\n",
            "Ingrese el numero de partidos empatados: 2\n",
            "Ingrese el numero de partidos perdidos: 1\n",
            "wins:  3\n",
            "draws:  2\n",
            "loses:  1\n",
            "Puntos totales:  11\n"
          ]
        }
      ]
    },
    {
      "cell_type": "code",
      "source": [
        "name = input(\"Ingrese el nombre del empleado: \")\n",
        "horas = int(input(\"Ingrese la cantidad de horas laboradas: \"))\n",
        "tarifa = int(input(\"Ingrese la tarifa por hora: \"))\n",
        "\n",
        "devengado = horas*tarifa\n",
        "\n",
        "print(\"Nombre: \", name)\n",
        "print(\"Horas laboradas: \", horas)\n",
        "print(\"Tarifa por hora: \", tarifa)\n",
        "print(\"Devengado: \", devengado)\n"
      ],
      "metadata": {
        "colab": {
          "base_uri": "https://localhost:8080/"
        },
        "id": "i-Lb3YqySx5S",
        "outputId": "5f58757a-24ea-4b14-fec5-e550d6bb0b57"
      },
      "execution_count": null,
      "outputs": [
        {
          "output_type": "stream",
          "name": "stdout",
          "text": [
            "Ingrese el nombre del empleado: rubi\n",
            "Ingrese la cantidad de horas laboradas: 60000\n",
            "Ingrese la tarifa por hora: 160\n",
            "Nombre:  rubi\n",
            "Horas laboradas:  60000\n",
            "Tarifa por hora:  160\n",
            "Devengado:  9600000\n"
          ]
        }
      ]
    },
    {
      "cell_type": "code",
      "source": [
        "cateto1 = int(input(\"Ingrese el valor del primer cateto: \"))\n",
        "cateto2 = int(input(\"Ingrese el valor del segundo cateto: \"))\n",
        "\n",
        "hipotenusa = (cateto1**2 + cateto2**2)**0.5\n",
        "\n",
        "print(\"El valor de la hipotenusa es: \", hipotenusa)"
      ],
      "metadata": {
        "colab": {
          "base_uri": "https://localhost:8080/"
        },
        "id": "ylOhENzMTtQ1",
        "outputId": "c79585e6-0ddf-4ab1-bf8c-f43a9ae6f01c"
      },
      "execution_count": null,
      "outputs": [
        {
          "output_type": "stream",
          "name": "stdout",
          "text": [
            "Ingrese el valor del primer cateto: 30\n",
            "Ingrese el valor del segundo cateto: 20\n",
            "El valor de la hipotenusa es:  36.05551275463989\n"
          ]
        }
      ]
    },
    {
      "cell_type": "code",
      "source": [
        "temperatura = float(input(\"Ingrese la temperatura en grados Celsius: \"))\n",
        "\n",
        "fahrenheit = (temperatura * 1.8) + 32\n",
        "\n",
        "print(\"La temperatura en grados Fahrenheit es: \", fahrenheit)\n"
      ],
      "metadata": {
        "colab": {
          "base_uri": "https://localhost:8080/"
        },
        "id": "TX3Q2hSuUI-g",
        "outputId": "41c8a7f1-8156-41dc-f31f-e45e8f3fbc8c"
      },
      "execution_count": null,
      "outputs": [
        {
          "output_type": "stream",
          "name": "stdout",
          "text": [
            "Ingrese la temperatura en grados Celsius: 0\n",
            "La temperatura en grados Fahrenheit es:  32.0\n"
          ]
        }
      ]
    }
  ]
}